{
 "cells": [
  {
   "cell_type": "code",
   "execution_count": 1,
   "id": "adb7fa47",
   "metadata": {
    "_cell_guid": "b1076dfc-b9ad-4769-8c92-a6c4dae69d19",
    "_uuid": "8f2839f25d086af736a60e9eeb907d3b93b6e0e5",
    "execution": {
     "iopub.execute_input": "2023-02-17T18:34:24.656976Z",
     "iopub.status.busy": "2023-02-17T18:34:24.656346Z",
     "iopub.status.idle": "2023-02-17T18:34:24.834465Z",
     "shell.execute_reply": "2023-02-17T18:34:24.833324Z"
    },
    "papermill": {
     "duration": 0.187947,
     "end_time": "2023-02-17T18:34:24.837098",
     "exception": false,
     "start_time": "2023-02-17T18:34:24.649151",
     "status": "completed"
    },
    "tags": []
   },
   "outputs": [],
   "source": [
    "# This Python 3 environment comes with many helpful analytics libraries installed\n",
    "# It is defined by the kaggle/python Docker image: https://github.com/kaggle/docker-python\n",
    "# For example, here's several helpful packages to load\n",
    "\n",
    "import numpy as np # linear algebra\n",
    "import pandas as pd # data processing, CSV file I/O (e.g. pd.read_csv)\n",
    "import cv2\n",
    "# Input data files are available in the read-only \"../input/\" directory\n",
    "# For example, running this (by clicking run or pressing Shift+Enter) will list all files under the input directory\n",
    "import matplotlib.pyplot as plt\n",
    "import os\n",
    "\n",
    "# You can write up to 20GB to the current directory (/kaggle/working/) that gets preserved as output when you create a version using \"Save & Run All\" \n",
    "# You can also write temporary files to /kaggle/temp/, but they won't be saved outside of the current session"
   ]
  },
  {
   "cell_type": "code",
   "execution_count": 2,
   "id": "53ab90f2",
   "metadata": {
    "execution": {
     "iopub.execute_input": "2023-02-17T18:34:24.847558Z",
     "iopub.status.busy": "2023-02-17T18:34:24.846820Z",
     "iopub.status.idle": "2023-02-17T18:34:24.973133Z",
     "shell.execute_reply": "2023-02-17T18:34:24.971973Z"
    },
    "papermill": {
     "duration": 0.134265,
     "end_time": "2023-02-17T18:34:24.975816",
     "exception": false,
     "start_time": "2023-02-17T18:34:24.841551",
     "status": "completed"
    },
    "tags": []
   },
   "outputs": [],
   "source": [
    "train = pd.read_csv('/kaggle/input/rsna-breast-cancer-detection/train.csv')\n"
   ]
  },
  {
   "cell_type": "code",
   "execution_count": 3,
   "id": "00c7f563",
   "metadata": {
    "execution": {
     "iopub.execute_input": "2023-02-17T18:34:24.986168Z",
     "iopub.status.busy": "2023-02-17T18:34:24.985138Z",
     "iopub.status.idle": "2023-02-17T18:34:25.115204Z",
     "shell.execute_reply": "2023-02-17T18:34:25.114109Z"
    },
    "papermill": {
     "duration": 0.137628,
     "end_time": "2023-02-17T18:34:25.117712",
     "exception": false,
     "start_time": "2023-02-17T18:34:24.980084",
     "status": "completed"
    },
    "tags": []
   },
   "outputs": [
    {
     "data": {
      "text/html": [
       "<div>\n",
       "<style scoped>\n",
       "    .dataframe tbody tr th:only-of-type {\n",
       "        vertical-align: middle;\n",
       "    }\n",
       "\n",
       "    .dataframe tbody tr th {\n",
       "        vertical-align: top;\n",
       "    }\n",
       "\n",
       "    .dataframe thead th {\n",
       "        text-align: right;\n",
       "    }\n",
       "</style>\n",
       "<table border=\"1\" class=\"dataframe\">\n",
       "  <thead>\n",
       "    <tr style=\"text-align: right;\">\n",
       "      <th></th>\n",
       "      <th>site_id</th>\n",
       "      <th>patient_id</th>\n",
       "      <th>image_id</th>\n",
       "      <th>laterality</th>\n",
       "      <th>view</th>\n",
       "      <th>age</th>\n",
       "      <th>cancer</th>\n",
       "      <th>biopsy</th>\n",
       "      <th>invasive</th>\n",
       "      <th>BIRADS</th>\n",
       "      <th>implant</th>\n",
       "      <th>density</th>\n",
       "      <th>machine_id</th>\n",
       "      <th>difficult_negative_case</th>\n",
       "      <th>path</th>\n",
       "    </tr>\n",
       "  </thead>\n",
       "  <tbody>\n",
       "    <tr>\n",
       "      <th>0</th>\n",
       "      <td>2</td>\n",
       "      <td>10006</td>\n",
       "      <td>462822612</td>\n",
       "      <td>L</td>\n",
       "      <td>CC</td>\n",
       "      <td>61.0</td>\n",
       "      <td>0</td>\n",
       "      <td>0</td>\n",
       "      <td>0</td>\n",
       "      <td>NaN</td>\n",
       "      <td>0</td>\n",
       "      <td>NaN</td>\n",
       "      <td>29</td>\n",
       "      <td>False</td>\n",
       "      <td>/kaggle/input/rsna-breast-cancer-1024-pngs/out...</td>\n",
       "    </tr>\n",
       "    <tr>\n",
       "      <th>1</th>\n",
       "      <td>2</td>\n",
       "      <td>10006</td>\n",
       "      <td>1459541791</td>\n",
       "      <td>L</td>\n",
       "      <td>MLO</td>\n",
       "      <td>61.0</td>\n",
       "      <td>0</td>\n",
       "      <td>0</td>\n",
       "      <td>0</td>\n",
       "      <td>NaN</td>\n",
       "      <td>0</td>\n",
       "      <td>NaN</td>\n",
       "      <td>29</td>\n",
       "      <td>False</td>\n",
       "      <td>/kaggle/input/rsna-breast-cancer-1024-pngs/out...</td>\n",
       "    </tr>\n",
       "    <tr>\n",
       "      <th>2</th>\n",
       "      <td>2</td>\n",
       "      <td>10006</td>\n",
       "      <td>1864590858</td>\n",
       "      <td>R</td>\n",
       "      <td>MLO</td>\n",
       "      <td>61.0</td>\n",
       "      <td>0</td>\n",
       "      <td>0</td>\n",
       "      <td>0</td>\n",
       "      <td>NaN</td>\n",
       "      <td>0</td>\n",
       "      <td>NaN</td>\n",
       "      <td>29</td>\n",
       "      <td>False</td>\n",
       "      <td>/kaggle/input/rsna-breast-cancer-1024-pngs/out...</td>\n",
       "    </tr>\n",
       "    <tr>\n",
       "      <th>3</th>\n",
       "      <td>2</td>\n",
       "      <td>10006</td>\n",
       "      <td>1874946579</td>\n",
       "      <td>R</td>\n",
       "      <td>CC</td>\n",
       "      <td>61.0</td>\n",
       "      <td>0</td>\n",
       "      <td>0</td>\n",
       "      <td>0</td>\n",
       "      <td>NaN</td>\n",
       "      <td>0</td>\n",
       "      <td>NaN</td>\n",
       "      <td>29</td>\n",
       "      <td>False</td>\n",
       "      <td>/kaggle/input/rsna-breast-cancer-1024-pngs/out...</td>\n",
       "    </tr>\n",
       "    <tr>\n",
       "      <th>4</th>\n",
       "      <td>2</td>\n",
       "      <td>10011</td>\n",
       "      <td>220375232</td>\n",
       "      <td>L</td>\n",
       "      <td>CC</td>\n",
       "      <td>55.0</td>\n",
       "      <td>0</td>\n",
       "      <td>0</td>\n",
       "      <td>0</td>\n",
       "      <td>0.0</td>\n",
       "      <td>0</td>\n",
       "      <td>NaN</td>\n",
       "      <td>21</td>\n",
       "      <td>True</td>\n",
       "      <td>/kaggle/input/rsna-breast-cancer-1024-pngs/out...</td>\n",
       "    </tr>\n",
       "  </tbody>\n",
       "</table>\n",
       "</div>"
      ],
      "text/plain": [
       "   site_id  patient_id    image_id laterality view   age  cancer  biopsy  \\\n",
       "0        2       10006   462822612          L   CC  61.0       0       0   \n",
       "1        2       10006  1459541791          L  MLO  61.0       0       0   \n",
       "2        2       10006  1864590858          R  MLO  61.0       0       0   \n",
       "3        2       10006  1874946579          R   CC  61.0       0       0   \n",
       "4        2       10011   220375232          L   CC  55.0       0       0   \n",
       "\n",
       "   invasive  BIRADS  implant density  machine_id  difficult_negative_case  \\\n",
       "0         0     NaN        0     NaN          29                    False   \n",
       "1         0     NaN        0     NaN          29                    False   \n",
       "2         0     NaN        0     NaN          29                    False   \n",
       "3         0     NaN        0     NaN          29                    False   \n",
       "4         0     0.0        0     NaN          21                     True   \n",
       "\n",
       "                                                path  \n",
       "0  /kaggle/input/rsna-breast-cancer-1024-pngs/out...  \n",
       "1  /kaggle/input/rsna-breast-cancer-1024-pngs/out...  \n",
       "2  /kaggle/input/rsna-breast-cancer-1024-pngs/out...  \n",
       "3  /kaggle/input/rsna-breast-cancer-1024-pngs/out...  \n",
       "4  /kaggle/input/rsna-breast-cancer-1024-pngs/out...  "
      ]
     },
     "execution_count": 3,
     "metadata": {},
     "output_type": "execute_result"
    }
   ],
   "source": [
    "IMG_PATH = f\"/kaggle/input/rsna-breast-cancer-1024-pngs/output/\"\n",
    "train[\"path\"] = IMG_PATH + train[\"patient_id\"].astype(str) + \"_\" + train[\"image_id\"].astype(str) + \".png\"\n",
    "train.head()"
   ]
  },
  {
   "cell_type": "code",
   "execution_count": 4,
   "id": "82af744d",
   "metadata": {
    "execution": {
     "iopub.execute_input": "2023-02-17T18:34:25.128493Z",
     "iopub.status.busy": "2023-02-17T18:34:25.127514Z",
     "iopub.status.idle": "2023-02-17T18:34:25.144280Z",
     "shell.execute_reply": "2023-02-17T18:34:25.143199Z"
    },
    "papermill": {
     "duration": 0.024348,
     "end_time": "2023-02-17T18:34:25.146601",
     "exception": false,
     "start_time": "2023-02-17T18:34:25.122253",
     "status": "completed"
    },
    "tags": []
   },
   "outputs": [
    {
     "data": {
      "text/plain": [
       "1158"
      ]
     },
     "execution_count": 4,
     "metadata": {},
     "output_type": "execute_result"
    }
   ],
   "source": [
    "df = train[train.cancer == 1].reset_index(inplace=False)\n",
    "len(df)"
   ]
  },
  {
   "cell_type": "code",
   "execution_count": 5,
   "id": "a759ef74",
   "metadata": {
    "execution": {
     "iopub.execute_input": "2023-02-17T18:34:25.157764Z",
     "iopub.status.busy": "2023-02-17T18:34:25.156797Z",
     "iopub.status.idle": "2023-02-17T18:34:27.089653Z",
     "shell.execute_reply": "2023-02-17T18:34:27.088738Z"
    },
    "papermill": {
     "duration": 1.940783,
     "end_time": "2023-02-17T18:34:27.092093",
     "exception": false,
     "start_time": "2023-02-17T18:34:25.151310",
     "status": "completed"
    },
    "tags": []
   },
   "outputs": [
    {
     "name": "stdout",
     "output_type": "stream",
     "text": [
      "/kaggle/input/rsna-breast-cancer-1024-pngs/output/10668_1222121284.png\n"
     ]
    },
    {
     "data": {
      "image/png": "[encoded data removed]",
      "text/plain": [
       "<Figure size 432x288 with 1 Axes>"
      ]
     },
     "metadata": {
      "needs_background": "light"
     },
     "output_type": "display_data"
    }
   ],
   "source": [
    "from PIL import Image\n",
    "from torch.utils.data import Dataset\n",
    "idx = 19\n",
    "pillow_image = Image.open(df.path.iloc[idx])\n",
    "img = np.array(pillow_image)\n",
    "\n",
    "# img = cv2.imread(df.path.iloc[0])\n",
    "\n",
    "plt.imshow(img)\n",
    "print(df.path.iloc[idx])"
   ]
  },
  {
   "cell_type": "code",
   "execution_count": 6,
   "id": "73b9e24d",
   "metadata": {
    "execution": {
     "iopub.execute_input": "2023-02-17T18:34:27.104774Z",
     "iopub.status.busy": "2023-02-17T18:34:27.104211Z",
     "iopub.status.idle": "2023-02-17T18:34:29.078243Z",
     "shell.execute_reply": "2023-02-17T18:34:29.077094Z"
    },
    "papermill": {
     "duration": 1.983931,
     "end_time": "2023-02-17T18:34:29.081214",
     "exception": false,
     "start_time": "2023-02-17T18:34:27.097283",
     "status": "completed"
    },
    "tags": []
   },
   "outputs": [],
   "source": [
    "import albumentations as A\n",
    "import re\n",
    "\n",
    "\n",
    "#https://www.kaggle.com/code/davidbroberts/mammography-remove-letter-markers\n",
    "\n",
    "def Remove_Letter_Markers(img):\n",
    "    img = cv2.cvtColor(img, cv2.COLOR_BGR2GRAY)\n",
    "    img = np.array(img * 255, dtype = np.uint8)\n",
    "    # Binarize the image\n",
    "    bin_img = cv2.threshold(img, 20, 255, cv2.THRESH_BINARY)[1]\n",
    "\n",
    "    # Make contours around the binarized image, keep only the largest contour\n",
    "    contours, _ = cv2.findContours(bin_img, cv2.RETR_EXTERNAL, cv2.CHAIN_APPROX_NONE)\n",
    "    contour = max(contours, key=cv2.contourArea)\n",
    "    mask = np.zeros(img.shape, np.uint8)\n",
    "    cv2.drawContours(mask, [contour], -1, 255, cv2.FILLED)\n",
    "    out = cv2.bitwise_and(img,mask)\n",
    "    return out\n",
    "\n",
    "\n",
    "def img2roi(img, is_dicom=False):\n",
    "    \"\"\"\n",
    "    Returns ROI area in other words \n",
    "    cuts the image to a desired one\n",
    "    \n",
    "    Because there are machine label tags,\n",
    "    undesired details out of the breast image.\n",
    "    \"\"\"\n",
    "    if not is_dicom:\n",
    "        img = cv2.cvtColor(img, cv2.COLOR_BGR2GRAY)\n",
    "        \n",
    "    img = np.array(img * 255, dtype = np.uint8)\n",
    "    # Binarize the image\n",
    "    bin_img = cv2.threshold(img, 20, 255, cv2.THRESH_BINARY)[1]\n",
    "\n",
    "    # Make contours around the binarized image, keep only the largest contour\n",
    "    contours, _ = cv2.findContours(bin_img, cv2.RETR_EXTERNAL, cv2.CHAIN_APPROX_NONE)\n",
    "    contour = max(contours, key=cv2.contourArea)\n",
    "\n",
    "    # Find ROI from largest contour\n",
    "    ys = contour.squeeze()[:, 0]\n",
    "    xs = contour.squeeze()[:, 1]\n",
    "    roi =  img[np.min(xs):np.max(xs), np.min(ys):np.max(ys)]\n",
    "#     roi = cv2.resize(roi, (1024,1024), cv2.INTER_LINEAR)\n",
    "\n",
    "#     print(f\"Shape of ROI image: {roi.shape}\")\n",
    "    \n",
    "    return roi\n",
    "\n",
    "#https://www.kaggle.com/code/vslaykovsky/rsna-cut-off-empty-space-from-images/notebook\n",
    "\n",
    "def fit_image(X):\n",
    "    #X = cv2.imread(fname)\n",
    "    \n",
    "    # Some images have narrow exterior \"frames\" that complicate selection of the main data. Cutting off the frame\n",
    "    X = X[5:-5, 5:-5]\n",
    "    \n",
    "    # regions of non-empty pixels\n",
    "    output= cv2.connectedComponentsWithStats((X > 20).astype(np.uint8)[:, :, 0], 8, cv2.CV_32S)\n",
    "\n",
    "    # stats.shape == (N, 5), where N is the number of regions, 5 dimensions correspond to:\n",
    "    # left, top, width, height, area_size\n",
    "    stats = output[2]\n",
    "\n",
    "    # finding max area which always corresponds to the breast data. \n",
    "    idx = stats[1:, 4].argmax() + 1\n",
    "    x1, y1, w, h = stats[idx][:4]\n",
    "    x2 = x1 + w\n",
    "    y2 = y1 + h\n",
    "    \n",
    "    # cutting out the breast data\n",
    "    X_fit = X[y1: y2, x1: x2]\n",
    "    \n",
    "#     patient_id, im_id = re.findall('(\\d+)_(\\d+).png', os.path.basename(fname))[0]\n",
    "#     os.makedirs(patient_id, exist_ok=True)\n",
    "#     cv2.imwrite(f'{patient_id}/{im_id}.png', X_fit[:, :, 0])\n",
    "    return X_fit[:, :, 0]\n",
    "\n",
    "\n",
    "def get_transform(stage):\n",
    "    if stage == 'train':\n",
    "        return A.Compose([\n",
    "            A.RandomBrightnessContrast(p=0.2),\n",
    "        #     A.PiecewiseAffine(p=1.0),\n",
    "            A.ShiftScaleRotate(\n",
    "                        shift_limit=0.0625,\n",
    "                        scale_limit=0.1,\n",
    "                        rotate_limit=30,\n",
    "                        p=1.0),\n",
    "        #     A.Transpose(always_apply=False, p=1.0),\n",
    "        #     A.CenterCrop(always_apply=False, p=1.0, height=512, width=512),\n",
    "#             A.RandomScale(always_apply=False, p=1.0, interpolation=0, scale_limit=(-0.09999999999999998, 0.10000000000000009)),\n",
    "            A.Sharpen(always_apply=False, p=1.0, alpha=(0.2, 0.5), lightness=(1.0, 1.0)),\n",
    "        #     A.dropout.coarse_dropout.CoarseDropout (max_holes=1, max_height=256, max_width=256, min_holes=None, min_height=None, min_width=None, fill_value=0, mask_fill_value=None, always_apply=False, p=0.9),\n",
    "        #     A.AdvancedBlur(always_apply=False, p=1.0, blur_limit=(3, 7), sigmaX_limit=(0.2, 1.0), sigmaY_limit=(0.2, 1.0), rotate_limit=(-90, 90), beta_limit=(0.5, 8.0), noise_limit=(0.9, 1.1)),\n",
    "        #     A.MultiplicativeNoise (multiplier=(0.9, 1.1), per_channel=False, elementwise=False, always_apply=False, p=0.5),\n",
    "            A.augmentations.geometric.resize.Resize(1024,1024),\n",
    "            #     A.ISONoise (color_shift=(0.01, 0.05), intensity=(0.1, 0.5), always_apply=False, p=0.5),\n",
    "        #     A.ChannelShuffle(p=0.6),\n",
    "        #     A.dropout.channel_dropout.ChannelDropout (channel_drop_range=(1, 1), fill_value=0, always_apply=False, p=0.5),\n",
    "        # #     A.RandomSnow (snow_point_lower=0.1, snow_point_upper=0.3, brightness_coeff=2.5, always_apply=False, p=0.5),\n",
    "        #     A.CLAHE (clip_limit=4.0, tile_grid_size=(8, 8), always_apply=False, p=0.5)\n",
    "        ])\n",
    "    if stage == 'train_v1':\n",
    "        return A.Compose([\n",
    "        #     A.PiecewiseAffine(p=1.0),\n",
    "#               A.geometric.transforms.Affine(scale=(0.5, 2.0), translate_percent=(0.1, 0.1), translate_px=None, rotate=(5,5),                              shear=30, interpolation=1, mask_interpolation=0, cval=0, cval_mask=0, mode=0,                                                   fit_output=False,keep_ratio=False, always_apply=False, p=0.5),\n",
    "            \n",
    "        #     A.Transpose(always_apply=False, p=1.0),\n",
    "#             A.CenterCrop(always_apply=False, p=1.0, height=900, width=900),\n",
    "#             A.RandomScale(always_apply=False, p=1.0, interpolation=0, scale_limit=(-0.09999999999999998, 0.10000000000000009)),\n",
    "            A.MedianBlur(always_apply=False, p=1.0, blur_limit=(1, 3)),\n",
    "            #     A.AdvancedBlur(always_apply=False, p=1.0, blur_limit=(3, 7), sigmaX_limit=(0.2, 1.0), sigmaY_limit=(0.2, 1.0), rotate_limit=(-90, 90), beta_limit=(0.5, 8.0), noise_limit=(0.9, 1.1)),\n",
    "        #     A.MultiplicativeNoise (multiplier=(0.9, 1.1), per_channel=False, elementwise=False, always_apply=False, p=0.5),\n",
    "            A.augmentations.geometric.resize.Resize(1024,1024),\n",
    "            #     A.ISONoise (color_shift=(0.01, 0.05), intensity=(0.1, 0.5), always_apply=False, p=0.5),\n",
    "#             A.ChannelShuffle(p=0.6),\n",
    "            A.ColorJitter(always_apply=False, p=1.0, brightness=(0.73, 0.83), contrast=(0.8, 1.2), saturation=(0.8, 1.2), hue=(-0.2, 0.2)),\n",
    "        #     A.dropout.channel_dropout.ChannelDropout (channel_drop_range=(1, 1), fill_value=0, always_apply=False, p=0.5),\n",
    "        # #     A.RandomSnow (snow_point_lower=0.1, snow_point_upper=0.3, brightness_coeff=2.5, always_apply=False, p=0.5),\n",
    "            A.CLAHE (clip_limit=4.0, tile_grid_size=(8, 8), always_apply=False, p=0.5)\n",
    "        ])\n",
    "    if stage == 'train_v2':\n",
    "        return A.Compose([\n",
    "     \n",
    "            A.augmentations.geometric.resize.Resize(1024,1024),\n",
    "#             A.ISONoise (color_shift=(0.01, 0.05), intensity=(0.1, 0.5), always_apply=False, p=0.3),\n",
    "            A.ChannelShuffle(p=0.5),\n",
    "#             A.RandomSnow (snow_point_lower=0.1, snow_point_upper=0.3, brightness_coeff=2.5, always_apply=False, p=0.5),\n",
    "\n",
    "            A.ColorJitter(always_apply=False, p=0.5, brightness=(0.1, 0.2), contrast=(0.8, 1.2), saturation=(0.8, 1.2), hue=(-0.2, 0.2)),\n",
    "\n",
    "        ])\n",
    "\n"
   ]
  },
  {
   "cell_type": "code",
   "execution_count": 7,
   "id": "6aad71cd",
   "metadata": {
    "execution": {
     "iopub.execute_input": "2023-02-17T18:34:29.093083Z",
     "iopub.status.busy": "2023-02-17T18:34:29.092688Z",
     "iopub.status.idle": "2023-02-17T18:34:29.104891Z",
     "shell.execute_reply": "2023-02-17T18:34:29.104077Z"
    },
    "papermill": {
     "duration": 0.020404,
     "end_time": "2023-02-17T18:34:29.106864",
     "exception": false,
     "start_time": "2023-02-17T18:34:29.086460",
     "status": "completed"
    },
    "tags": []
   },
   "outputs": [],
   "source": [
    "def BreastCancerData(df,transform=None):\n",
    "    os.makedirs('augmented_dataset',exist_ok=True)\n",
    "    df['img_name'] = \"none\"\n",
    "    df['aug_img_name'] = \"none\"\n",
    "    for idx in range(len(df)):\n",
    "        head, tail = os.path.split(df.path[idx])\n",
    "        image = cv2.cvtColor(cv2.imread(df.path[idx],cv2.IMREAD_UNCHANGED), cv2.COLOR_BGR2RGB)\n",
    "#         image = cv2.imread(df.path[idx])\n",
    "        df['img_name'][idx] = tail\n",
    "        df['aug_img_name'][idx] = \"aug_\"+tail\n",
    "        \n",
    "        #             image = np.asarray(Image.open(self.paths[idx]).convert('RGB'))\n",
    "        \n",
    "\n",
    "#         image = (image * 255).astype(np.uint8)\n",
    "#         image = img2roi(image, is_dicom=False)\n",
    "#         image = cv2.resize(image,(1024,1024), interpolation=cv2.INTER_LINEAR)\n",
    "\n",
    "        #             image = cv2.cvtColor(image, cv2.COLOR_GRAY2BGR)\n",
    "\n",
    "        #         image = image.astype(np.float32)\n",
    "        image = Remove_Letter_Markers(image)\n",
    "        image = cv2.cvtColor(image, cv2.COLOR_BGR2RGB)\n",
    "        \n",
    "        if transform=='valid':\n",
    "            valid_aug = get_transform(stage='valid')\n",
    "        #             image = valid_aug(image)\n",
    "            image = valid_aug(image=image)['image']\n",
    "        if transform=='train':\n",
    "            train_aug = get_transform(stage='train')\n",
    "        #             image = train_aug(image)\n",
    "            image = train_aug(image=image)['image']\n",
    "            \n",
    "        if transform=='train_v1':\n",
    "            train_aug = get_transform(stage='train_v1')\n",
    "        #             image = train_aug(image)\n",
    "            image = train_aug(image=image)['image']\n",
    "        if transform=='train_v2':\n",
    "            train_aug = get_transform(stage='train_v2')\n",
    "        #             image = train_aug(image)\n",
    "            image = train_aug(image=image)['image']\n",
    "            \n",
    "        image = fit_image(image)\n",
    "        image = cv2.resize(image,(1024,1024), interpolation=cv2.INTER_LINEAR)\n",
    "\n",
    "        #         image = image / 255\n",
    "        cv2.imwrite(f\"augmented_dataset/{df['aug_img_name'][idx]}\", image)\n",
    "    df.to_csv(\"augmented_df.csv\",index = False)\n",
    "\n",
    "\n"
   ]
  },
  {
   "cell_type": "code",
   "execution_count": 8,
   "id": "c5e848a1",
   "metadata": {
    "execution": {
     "iopub.execute_input": "2023-02-17T18:34:29.119184Z",
     "iopub.status.busy": "2023-02-17T18:34:29.118207Z",
     "iopub.status.idle": "2023-02-17T18:34:30.153706Z",
     "shell.execute_reply": "2023-02-17T18:34:30.152429Z"
    },
    "papermill": {
     "duration": 1.044235,
     "end_time": "2023-02-17T18:34:30.156309",
     "exception": false,
     "start_time": "2023-02-17T18:34:29.112074",
     "status": "completed"
    },
    "tags": []
   },
   "outputs": [
    {
     "name": "stdout",
     "output_type": "stream",
     "text": [
      "__notebook__.ipynb\r\n"
     ]
    }
   ],
   "source": [
    "!ls"
   ]
  },
  {
   "cell_type": "code",
   "execution_count": 9,
   "id": "f43f3a4d",
   "metadata": {
    "execution": {
     "iopub.execute_input": "2023-02-17T18:34:30.169488Z",
     "iopub.status.busy": "2023-02-17T18:34:30.169042Z",
     "iopub.status.idle": "2023-02-17T18:34:30.539290Z",
     "shell.execute_reply": "2023-02-17T18:34:30.538445Z"
    },
    "papermill": {
     "duration": 0.379497,
     "end_time": "2023-02-17T18:34:30.541447",
     "exception": false,
     "start_time": "2023-02-17T18:34:30.161950",
     "status": "completed"
    },
    "tags": []
   },
   "outputs": [
    {
     "name": "stdout",
     "output_type": "stream",
     "text": [
      "(1024, 1024, 3)\n"
     ]
    },
    {
     "data": {
      "text/plain": [
       "<matplotlib.image.AxesImage at 0x7f36eb623710>"
      ]
     },
     "execution_count": 9,
     "metadata": {},
     "output_type": "execute_result"
    },
    {
     "data": {
      "image/png": "[encoded data removed]",
      "text/plain": [
       "<Figure size 432x288 with 1 Axes>"
      ]
     },
     "metadata": {
      "needs_background": "light"
     },
     "output_type": "display_data"
    }
   ],
   "source": [
    "img = cv2.cvtColor(img, cv2.COLOR_BGR2RGB)\n",
    "\n",
    "transform = get_transform(stage='train')\n",
    "Transformed_Img = transform(image = img)[\"image\"]\n",
    "print(Transformed_Img.shape)\n",
    "plt.imshow(Transformed_Img)"
   ]
  },
  {
   "cell_type": "code",
   "execution_count": 10,
   "id": "1863cdd8",
   "metadata": {
    "execution": {
     "iopub.execute_input": "2023-02-17T18:34:30.555623Z",
     "iopub.status.busy": "2023-02-17T18:34:30.554648Z",
     "iopub.status.idle": "2023-02-17T18:34:30.562138Z",
     "shell.execute_reply": "2023-02-17T18:34:30.561131Z"
    },
    "papermill": {
     "duration": 0.016873,
     "end_time": "2023-02-17T18:34:30.564384",
     "exception": false,
     "start_time": "2023-02-17T18:34:30.547511",
     "status": "completed"
    },
    "tags": []
   },
   "outputs": [
    {
     "data": {
      "text/plain": [
       "'augmented_10130_388811999.png'"
      ]
     },
     "execution_count": 10,
     "metadata": {},
     "output_type": "execute_result"
    }
   ],
   "source": [
    "\n",
    "head, tail = os.path.split(df.path[0])\n",
    "\"augmented_\"+tail"
   ]
  },
  {
   "cell_type": "code",
   "execution_count": 11,
   "id": "eaca28f7",
   "metadata": {
    "execution": {
     "iopub.execute_input": "2023-02-17T18:34:30.578302Z",
     "iopub.status.busy": "2023-02-17T18:34:30.577611Z",
     "iopub.status.idle": "2023-02-17T18:35:48.662374Z",
     "shell.execute_reply": "2023-02-17T18:35:48.661225Z"
    },
    "papermill": {
     "duration": 78.099376,
     "end_time": "2023-02-17T18:35:48.669871",
     "exception": false,
     "start_time": "2023-02-17T18:34:30.570495",
     "status": "completed"
    },
    "tags": []
   },
   "outputs": [
    {
     "name": "stderr",
     "output_type": "stream",
     "text": [
      "/opt/conda/lib/python3.7/site-packages/ipykernel_launcher.py:9: SettingWithCopyWarning: \n",
      "A value is trying to be set on a copy of a slice from a DataFrame\n",
      "\n",
      "See the caveats in the documentation: https://pandas.pydata.org/pandas-docs/stable/user_guide/indexing.html#returning-a-view-versus-a-copy\n",
      "  if __name__ == \"__main__\":\n",
      "/opt/conda/lib/python3.7/site-packages/ipykernel_launcher.py:10: SettingWithCopyWarning: \n",
      "A value is trying to be set on a copy of a slice from a DataFrame\n",
      "\n",
      "See the caveats in the documentation: https://pandas.pydata.org/pandas-docs/stable/user_guide/indexing.html#returning-a-view-versus-a-copy\n",
      "  # Remove the CWD from sys.path while we load stuff.\n"
     ]
    },
    {
     "name": "stdout",
     "output_type": "stream",
     "text": [
      "CPU times: user 1min 39s, sys: 35.9 s, total: 2min 15s\n",
      "Wall time: 1min 18s\n"
     ]
    }
   ],
   "source": [
    "%%time\n",
    "\n",
    "BreastCancerData(df,transform=\"train_v2\")"
   ]
  },
  {
   "cell_type": "code",
   "execution_count": 12,
   "id": "22c7bdd1",
   "metadata": {
    "execution": {
     "iopub.execute_input": "2023-02-17T18:35:48.683401Z",
     "iopub.status.busy": "2023-02-17T18:35:48.683024Z",
     "iopub.status.idle": "2023-02-17T18:35:49.015095Z",
     "shell.execute_reply": "2023-02-17T18:35:49.013986Z"
    },
    "papermill": {
     "duration": 0.341543,
     "end_time": "2023-02-17T18:35:49.017423",
     "exception": false,
     "start_time": "2023-02-17T18:35:48.675880",
     "status": "completed"
    },
    "tags": []
   },
   "outputs": [
    {
     "data": {
      "text/plain": [
       "<matplotlib.image.AxesImage at 0x7f36eb5869d0>"
      ]
     },
     "execution_count": 12,
     "metadata": {},
     "output_type": "execute_result"
    },
    {
     "data": {
      "image/png": "[encoded data removed]",
      "text/plain": [
       "<Figure size 432x288 with 1 Axes>"
      ]
     },
     "metadata": {
      "needs_background": "light"
     },
     "output_type": "display_data"
    }
   ],
   "source": [
    "plt.imshow(cv2.imread('/kaggle/working/augmented_dataset/aug_45810_2129233566.png'))"
   ]
  },
  {
   "cell_type": "code",
   "execution_count": null,
   "id": "e545f31f",
   "metadata": {
    "papermill": {
     "duration": 0.006726,
     "end_time": "2023-02-17T18:35:49.031450",
     "exception": false,
     "start_time": "2023-02-17T18:35:49.024724",
     "status": "completed"
    },
    "tags": []
   },
   "outputs": [],
   "source": []
  },
  {
   "cell_type": "code",
   "execution_count": null,
   "id": "744bf5d8",
   "metadata": {
    "papermill": {
     "duration": 0.006724,
     "end_time": "2023-02-17T18:35:49.045101",
     "exception": false,
     "start_time": "2023-02-17T18:35:49.038377",
     "status": "completed"
    },
    "tags": []
   },
   "outputs": [],
   "source": []
  }
 ],
 "metadata": {
  "kernelspec": {
   "display_name": "Python 3",
   "language": "python",
   "name": "python3"
  },
  "language_info": {
   "codemirror_mode": {
    "name": "ipython",
    "version": 3
   },
   "file_extension": ".py",
   "mimetype": "text/x-python",
   "name": "python",
   "nbconvert_exporter": "python",
   "pygments_lexer": "ipython3",
   "version": "3.7.12"
  },
  "papermill": {
   "default_parameters": {},
   "duration": 94.63039,
   "end_time": "2023-02-17T18:35:50.074164",
   "environment_variables": {},
   "exception": null,
   "input_path": "__notebook__.ipynb",
   "output_path": "__notebook__.ipynb",
   "parameters": {},
   "start_time": "2023-02-17T18:34:15.443774",
   "version": "2.3.4"
  }
 },
 "nbformat": 4,
 "nbformat_minor": 5
}
